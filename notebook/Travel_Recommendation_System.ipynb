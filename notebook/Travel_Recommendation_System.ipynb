{
  "cells": [
    {
      "cell_type": "markdown",
      "metadata": {
        "id": "IbugjTz2bklj"
      },
      "source": [
        "### Import Libraries and Load Data"
      ]
    },
    {
      "cell_type": "code",
      "execution_count": 198,
      "metadata": {
        "id": "4hKcbnT2be8j"
      },
      "outputs": [],
      "source": [
        "import pandas as pd\n",
        "import numpy as np\n",
        "\n",
        "from sklearn.preprocessing import LabelEncoder\n",
        "from sklearn.metrics.pairwise import cosine_similarity\n",
        "from sklearn.feature_extraction.text import TfidfVectorizer\n",
        "import matplotlib.pyplot as plt\n",
        "import seaborn as sns\n",
        "from sklearn.model_selection import train_test_split\n",
        "from sklearn.metrics import mean_squared_error, mean_absolute_error, r2_score\n",
        "from sklearn.ensemble import RandomForestRegressor\n",
        "from sklearn.preprocessing import LabelEncoder\n",
        "\n",
        "import pickle"
      ]
    },
    {
      "cell_type": "markdown",
      "metadata": {
        "id": "JaklhUhwcmcW"
      },
      "source": [
        "### Load Data"
      ]
    },
    {
      "cell_type": "code",
      "execution_count": 199,
      "metadata": {
        "id": "n78LohJ3cora"
      },
      "outputs": [],
      "source": [
        "destinations = pd.read_csv('../data/Expanded_Destinations.csv')\n",
        "reviews = pd.read_csv('../data/Final_Updated_Expanded_Reviews.csv')\n",
        "userHistory = pd.read_csv('../data/Final_Updated_Expanded_UserHistory.csv')\n",
        "users = pd.read_csv('../data/Final_Updated_Expanded_Users.csv')"
      ]
    },
    {
      "cell_type": "code",
      "execution_count": 200,
      "metadata": {
        "colab": {
          "base_uri": "https://localhost:8080/",
          "height": 206
        },
        "id": "Gmlte7MddWz6",
        "outputId": "412e6059-62df-448d-95be-bc2eb3ba17c3"
      },
      "outputs": [
        {
          "data": {
            "text/html": [
              "<div>\n",
              "<style scoped>\n",
              "    .dataframe tbody tr th:only-of-type {\n",
              "        vertical-align: middle;\n",
              "    }\n",
              "\n",
              "    .dataframe tbody tr th {\n",
              "        vertical-align: top;\n",
              "    }\n",
              "\n",
              "    .dataframe thead th {\n",
              "        text-align: right;\n",
              "    }\n",
              "</style>\n",
              "<table border=\"1\" class=\"dataframe\">\n",
              "  <thead>\n",
              "    <tr style=\"text-align: right;\">\n",
              "      <th></th>\n",
              "      <th>DestinationID</th>\n",
              "      <th>Name</th>\n",
              "      <th>State</th>\n",
              "      <th>Type</th>\n",
              "      <th>Popularity</th>\n",
              "      <th>BestTimeToVisit</th>\n",
              "    </tr>\n",
              "  </thead>\n",
              "  <tbody>\n",
              "    <tr>\n",
              "      <th>0</th>\n",
              "      <td>1</td>\n",
              "      <td>Taj Mahal</td>\n",
              "      <td>Uttar Pradesh</td>\n",
              "      <td>Historical</td>\n",
              "      <td>8.691906</td>\n",
              "      <td>Nov-Feb</td>\n",
              "    </tr>\n",
              "    <tr>\n",
              "      <th>1</th>\n",
              "      <td>2</td>\n",
              "      <td>Goa Beaches</td>\n",
              "      <td>Goa</td>\n",
              "      <td>Beach</td>\n",
              "      <td>8.605032</td>\n",
              "      <td>Nov-Mar</td>\n",
              "    </tr>\n",
              "    <tr>\n",
              "      <th>2</th>\n",
              "      <td>3</td>\n",
              "      <td>Jaipur City</td>\n",
              "      <td>Rajasthan</td>\n",
              "      <td>City</td>\n",
              "      <td>9.225372</td>\n",
              "      <td>Oct-Mar</td>\n",
              "    </tr>\n",
              "    <tr>\n",
              "      <th>3</th>\n",
              "      <td>4</td>\n",
              "      <td>Kerala Backwaters</td>\n",
              "      <td>Kerala</td>\n",
              "      <td>Nature</td>\n",
              "      <td>7.977386</td>\n",
              "      <td>Sep-Mar</td>\n",
              "    </tr>\n",
              "    <tr>\n",
              "      <th>4</th>\n",
              "      <td>5</td>\n",
              "      <td>Leh Ladakh</td>\n",
              "      <td>Jammu and Kashmir</td>\n",
              "      <td>Adventure</td>\n",
              "      <td>8.399822</td>\n",
              "      <td>Apr-Jun</td>\n",
              "    </tr>\n",
              "  </tbody>\n",
              "</table>\n",
              "</div>"
            ],
            "text/plain": [
              "   DestinationID               Name              State        Type  \\\n",
              "0              1          Taj Mahal      Uttar Pradesh  Historical   \n",
              "1              2        Goa Beaches                Goa       Beach   \n",
              "2              3        Jaipur City          Rajasthan        City   \n",
              "3              4  Kerala Backwaters             Kerala      Nature   \n",
              "4              5         Leh Ladakh  Jammu and Kashmir   Adventure   \n",
              "\n",
              "   Popularity BestTimeToVisit  \n",
              "0    8.691906         Nov-Feb  \n",
              "1    8.605032         Nov-Mar  \n",
              "2    9.225372         Oct-Mar  \n",
              "3    7.977386         Sep-Mar  \n",
              "4    8.399822         Apr-Jun  "
            ]
          },
          "execution_count": 200,
          "metadata": {},
          "output_type": "execute_result"
        }
      ],
      "source": [
        "destinations.head()"
      ]
    },
    {
      "cell_type": "code",
      "execution_count": 201,
      "metadata": {
        "colab": {
          "base_uri": "https://localhost:8080/",
          "height": 206
        },
        "id": "k6na9lMrdiOl",
        "outputId": "0f4855ff-348a-4bef-a85d-53b0a47099f8"
      },
      "outputs": [
        {
          "data": {
            "text/html": [
              "<div>\n",
              "<style scoped>\n",
              "    .dataframe tbody tr th:only-of-type {\n",
              "        vertical-align: middle;\n",
              "    }\n",
              "\n",
              "    .dataframe tbody tr th {\n",
              "        vertical-align: top;\n",
              "    }\n",
              "\n",
              "    .dataframe thead th {\n",
              "        text-align: right;\n",
              "    }\n",
              "</style>\n",
              "<table border=\"1\" class=\"dataframe\">\n",
              "  <thead>\n",
              "    <tr style=\"text-align: right;\">\n",
              "      <th></th>\n",
              "      <th>ReviewID</th>\n",
              "      <th>DestinationID</th>\n",
              "      <th>UserID</th>\n",
              "      <th>Rating</th>\n",
              "      <th>ReviewText</th>\n",
              "    </tr>\n",
              "  </thead>\n",
              "  <tbody>\n",
              "    <tr>\n",
              "      <th>0</th>\n",
              "      <td>1</td>\n",
              "      <td>178</td>\n",
              "      <td>327</td>\n",
              "      <td>2</td>\n",
              "      <td>Incredible monument!</td>\n",
              "    </tr>\n",
              "    <tr>\n",
              "      <th>1</th>\n",
              "      <td>2</td>\n",
              "      <td>411</td>\n",
              "      <td>783</td>\n",
              "      <td>1</td>\n",
              "      <td>Loved the beaches!</td>\n",
              "    </tr>\n",
              "    <tr>\n",
              "      <th>2</th>\n",
              "      <td>3</td>\n",
              "      <td>927</td>\n",
              "      <td>12</td>\n",
              "      <td>2</td>\n",
              "      <td>A historical wonder</td>\n",
              "    </tr>\n",
              "    <tr>\n",
              "      <th>3</th>\n",
              "      <td>4</td>\n",
              "      <td>358</td>\n",
              "      <td>959</td>\n",
              "      <td>3</td>\n",
              "      <td>Incredible monument!</td>\n",
              "    </tr>\n",
              "    <tr>\n",
              "      <th>4</th>\n",
              "      <td>5</td>\n",
              "      <td>989</td>\n",
              "      <td>353</td>\n",
              "      <td>2</td>\n",
              "      <td>Loved the beaches!</td>\n",
              "    </tr>\n",
              "  </tbody>\n",
              "</table>\n",
              "</div>"
            ],
            "text/plain": [
              "   ReviewID  DestinationID  UserID  Rating            ReviewText\n",
              "0         1            178     327       2  Incredible monument!\n",
              "1         2            411     783       1    Loved the beaches!\n",
              "2         3            927      12       2   A historical wonder\n",
              "3         4            358     959       3  Incredible monument!\n",
              "4         5            989     353       2    Loved the beaches!"
            ]
          },
          "execution_count": 201,
          "metadata": {},
          "output_type": "execute_result"
        }
      ],
      "source": [
        "reviews.head()"
      ]
    },
    {
      "cell_type": "code",
      "execution_count": 202,
      "metadata": {
        "colab": {
          "base_uri": "https://localhost:8080/",
          "height": 206
        },
        "id": "v9qf4A4zdoO5",
        "outputId": "586b3569-9ca9-4696-c1ba-f031f109e5e0"
      },
      "outputs": [
        {
          "data": {
            "text/html": [
              "<div>\n",
              "<style scoped>\n",
              "    .dataframe tbody tr th:only-of-type {\n",
              "        vertical-align: middle;\n",
              "    }\n",
              "\n",
              "    .dataframe tbody tr th {\n",
              "        vertical-align: top;\n",
              "    }\n",
              "\n",
              "    .dataframe thead th {\n",
              "        text-align: right;\n",
              "    }\n",
              "</style>\n",
              "<table border=\"1\" class=\"dataframe\">\n",
              "  <thead>\n",
              "    <tr style=\"text-align: right;\">\n",
              "      <th></th>\n",
              "      <th>HistoryID</th>\n",
              "      <th>UserID</th>\n",
              "      <th>DestinationID</th>\n",
              "      <th>VisitDate</th>\n",
              "      <th>ExperienceRating</th>\n",
              "    </tr>\n",
              "  </thead>\n",
              "  <tbody>\n",
              "    <tr>\n",
              "      <th>0</th>\n",
              "      <td>1</td>\n",
              "      <td>525</td>\n",
              "      <td>760</td>\n",
              "      <td>2024-01-01</td>\n",
              "      <td>3</td>\n",
              "    </tr>\n",
              "    <tr>\n",
              "      <th>1</th>\n",
              "      <td>2</td>\n",
              "      <td>184</td>\n",
              "      <td>532</td>\n",
              "      <td>2024-02-15</td>\n",
              "      <td>5</td>\n",
              "    </tr>\n",
              "    <tr>\n",
              "      <th>2</th>\n",
              "      <td>3</td>\n",
              "      <td>897</td>\n",
              "      <td>786</td>\n",
              "      <td>2024-03-20</td>\n",
              "      <td>2</td>\n",
              "    </tr>\n",
              "    <tr>\n",
              "      <th>3</th>\n",
              "      <td>4</td>\n",
              "      <td>470</td>\n",
              "      <td>660</td>\n",
              "      <td>2024-01-01</td>\n",
              "      <td>1</td>\n",
              "    </tr>\n",
              "    <tr>\n",
              "      <th>4</th>\n",
              "      <td>5</td>\n",
              "      <td>989</td>\n",
              "      <td>389</td>\n",
              "      <td>2024-02-15</td>\n",
              "      <td>4</td>\n",
              "    </tr>\n",
              "  </tbody>\n",
              "</table>\n",
              "</div>"
            ],
            "text/plain": [
              "   HistoryID  UserID  DestinationID   VisitDate  ExperienceRating\n",
              "0          1     525            760  2024-01-01                 3\n",
              "1          2     184            532  2024-02-15                 5\n",
              "2          3     897            786  2024-03-20                 2\n",
              "3          4     470            660  2024-01-01                 1\n",
              "4          5     989            389  2024-02-15                 4"
            ]
          },
          "execution_count": 202,
          "metadata": {},
          "output_type": "execute_result"
        }
      ],
      "source": [
        "userHistory.head()"
      ]
    },
    {
      "cell_type": "code",
      "execution_count": 203,
      "metadata": {
        "colab": {
          "base_uri": "https://localhost:8080/",
          "height": 206
        },
        "id": "4ImKp4gFds25",
        "outputId": "e4ef9569-bbb5-4d20-8cea-fbdb0288d44e"
      },
      "outputs": [
        {
          "data": {
            "text/html": [
              "<div>\n",
              "<style scoped>\n",
              "    .dataframe tbody tr th:only-of-type {\n",
              "        vertical-align: middle;\n",
              "    }\n",
              "\n",
              "    .dataframe tbody tr th {\n",
              "        vertical-align: top;\n",
              "    }\n",
              "\n",
              "    .dataframe thead th {\n",
              "        text-align: right;\n",
              "    }\n",
              "</style>\n",
              "<table border=\"1\" class=\"dataframe\">\n",
              "  <thead>\n",
              "    <tr style=\"text-align: right;\">\n",
              "      <th></th>\n",
              "      <th>UserID</th>\n",
              "      <th>Name</th>\n",
              "      <th>Email</th>\n",
              "      <th>Preferences</th>\n",
              "      <th>Gender</th>\n",
              "      <th>NumberOfAdults</th>\n",
              "      <th>NumberOfChildren</th>\n",
              "    </tr>\n",
              "  </thead>\n",
              "  <tbody>\n",
              "    <tr>\n",
              "      <th>0</th>\n",
              "      <td>1</td>\n",
              "      <td>Kavya</td>\n",
              "      <td>kavya@example.com</td>\n",
              "      <td>Beaches, Historical</td>\n",
              "      <td>Female</td>\n",
              "      <td>1</td>\n",
              "      <td>0</td>\n",
              "    </tr>\n",
              "    <tr>\n",
              "      <th>1</th>\n",
              "      <td>2</td>\n",
              "      <td>Rohan</td>\n",
              "      <td>rohan@example.com</td>\n",
              "      <td>Nature, Adventure</td>\n",
              "      <td>Male</td>\n",
              "      <td>2</td>\n",
              "      <td>2</td>\n",
              "    </tr>\n",
              "    <tr>\n",
              "      <th>2</th>\n",
              "      <td>3</td>\n",
              "      <td>Kavya</td>\n",
              "      <td>kavya@example.com</td>\n",
              "      <td>City, Historical</td>\n",
              "      <td>Female</td>\n",
              "      <td>2</td>\n",
              "      <td>0</td>\n",
              "    </tr>\n",
              "    <tr>\n",
              "      <th>3</th>\n",
              "      <td>4</td>\n",
              "      <td>Anika</td>\n",
              "      <td>anika@example.com</td>\n",
              "      <td>Beaches, Historical</td>\n",
              "      <td>Female</td>\n",
              "      <td>1</td>\n",
              "      <td>0</td>\n",
              "    </tr>\n",
              "    <tr>\n",
              "      <th>4</th>\n",
              "      <td>5</td>\n",
              "      <td>Tanvi</td>\n",
              "      <td>tanvi@example.com</td>\n",
              "      <td>Nature, Adventure</td>\n",
              "      <td>Female</td>\n",
              "      <td>2</td>\n",
              "      <td>2</td>\n",
              "    </tr>\n",
              "  </tbody>\n",
              "</table>\n",
              "</div>"
            ],
            "text/plain": [
              "   UserID   Name              Email          Preferences  Gender  \\\n",
              "0       1  Kavya  kavya@example.com  Beaches, Historical  Female   \n",
              "1       2  Rohan  rohan@example.com    Nature, Adventure    Male   \n",
              "2       3  Kavya  kavya@example.com     City, Historical  Female   \n",
              "3       4  Anika  anika@example.com  Beaches, Historical  Female   \n",
              "4       5  Tanvi  tanvi@example.com    Nature, Adventure  Female   \n",
              "\n",
              "   NumberOfAdults  NumberOfChildren  \n",
              "0               1                 0  \n",
              "1               2                 2  \n",
              "2               2                 0  \n",
              "3               1                 0  \n",
              "4               2                 2  "
            ]
          },
          "execution_count": 203,
          "metadata": {},
          "output_type": "execute_result"
        }
      ],
      "source": [
        "users.head()"
      ]
    },
    {
      "cell_type": "markdown",
      "metadata": {
        "id": "sMb6UHY5cl2m"
      },
      "source": [
        "### Data Preprocessing"
      ]
    },
    {
      "cell_type": "code",
      "execution_count": 204,
      "metadata": {
        "colab": {
          "base_uri": "https://localhost:8080/",
          "height": 313
        },
        "id": "2yyUHHtsdQAJ",
        "outputId": "defbebfb-d173-4489-e104-fbfaae4f4475"
      },
      "outputs": [
        {
          "data": {
            "text/html": [
              "<div>\n",
              "<style scoped>\n",
              "    .dataframe tbody tr th:only-of-type {\n",
              "        vertical-align: middle;\n",
              "    }\n",
              "\n",
              "    .dataframe tbody tr th {\n",
              "        vertical-align: top;\n",
              "    }\n",
              "\n",
              "    .dataframe thead th {\n",
              "        text-align: right;\n",
              "    }\n",
              "</style>\n",
              "<table border=\"1\" class=\"dataframe\">\n",
              "  <thead>\n",
              "    <tr style=\"text-align: right;\">\n",
              "      <th></th>\n",
              "      <th>ReviewID</th>\n",
              "      <th>DestinationID_x</th>\n",
              "      <th>UserID</th>\n",
              "      <th>Rating</th>\n",
              "      <th>ReviewText</th>\n",
              "      <th>Name_x</th>\n",
              "      <th>State</th>\n",
              "      <th>Type</th>\n",
              "      <th>Popularity</th>\n",
              "      <th>BestTimeToVisit</th>\n",
              "      <th>HistoryID</th>\n",
              "      <th>DestinationID_y</th>\n",
              "      <th>VisitDate</th>\n",
              "      <th>ExperienceRating</th>\n",
              "      <th>Name_y</th>\n",
              "      <th>Email</th>\n",
              "      <th>Preferences</th>\n",
              "      <th>Gender</th>\n",
              "      <th>NumberOfAdults</th>\n",
              "      <th>NumberOfChildren</th>\n",
              "    </tr>\n",
              "  </thead>\n",
              "  <tbody>\n",
              "    <tr>\n",
              "      <th>0</th>\n",
              "      <td>1</td>\n",
              "      <td>178</td>\n",
              "      <td>327</td>\n",
              "      <td>2</td>\n",
              "      <td>Incredible monument!</td>\n",
              "      <td>Jaipur City</td>\n",
              "      <td>Rajasthan</td>\n",
              "      <td>City</td>\n",
              "      <td>8.544352</td>\n",
              "      <td>Oct-Mar</td>\n",
              "      <td>79</td>\n",
              "      <td>175</td>\n",
              "      <td>2024-01-01</td>\n",
              "      <td>3</td>\n",
              "      <td>Pooja</td>\n",
              "      <td>pooja@example.com</td>\n",
              "      <td>City, Historical</td>\n",
              "      <td>Female</td>\n",
              "      <td>1</td>\n",
              "      <td>1</td>\n",
              "    </tr>\n",
              "    <tr>\n",
              "      <th>1</th>\n",
              "      <td>2</td>\n",
              "      <td>411</td>\n",
              "      <td>783</td>\n",
              "      <td>1</td>\n",
              "      <td>Loved the beaches!</td>\n",
              "      <td>Taj Mahal</td>\n",
              "      <td>Uttar Pradesh</td>\n",
              "      <td>Historical</td>\n",
              "      <td>8.284127</td>\n",
              "      <td>Nov-Feb</td>\n",
              "      <td>834</td>\n",
              "      <td>894</td>\n",
              "      <td>2024-03-20</td>\n",
              "      <td>2</td>\n",
              "      <td>Karan</td>\n",
              "      <td>karan@example.com</td>\n",
              "      <td>City, Historical</td>\n",
              "      <td>Male</td>\n",
              "      <td>1</td>\n",
              "      <td>1</td>\n",
              "    </tr>\n",
              "    <tr>\n",
              "      <th>2</th>\n",
              "      <td>4</td>\n",
              "      <td>358</td>\n",
              "      <td>959</td>\n",
              "      <td>3</td>\n",
              "      <td>Incredible monument!</td>\n",
              "      <td>Jaipur City</td>\n",
              "      <td>Rajasthan</td>\n",
              "      <td>City</td>\n",
              "      <td>7.738761</td>\n",
              "      <td>Oct-Mar</td>\n",
              "      <td>998</td>\n",
              "      <td>660</td>\n",
              "      <td>2024-02-15</td>\n",
              "      <td>4</td>\n",
              "      <td>Ritvik</td>\n",
              "      <td>ritvik@example.com</td>\n",
              "      <td>Nature, Adventure</td>\n",
              "      <td>Male</td>\n",
              "      <td>1</td>\n",
              "      <td>1</td>\n",
              "    </tr>\n",
              "    <tr>\n",
              "      <th>3</th>\n",
              "      <td>5</td>\n",
              "      <td>989</td>\n",
              "      <td>353</td>\n",
              "      <td>2</td>\n",
              "      <td>Loved the beaches!</td>\n",
              "      <td>Kerala Backwaters</td>\n",
              "      <td>Kerala</td>\n",
              "      <td>Nature</td>\n",
              "      <td>8.208088</td>\n",
              "      <td>Sep-Mar</td>\n",
              "      <td>202</td>\n",
              "      <td>894</td>\n",
              "      <td>2024-01-01</td>\n",
              "      <td>5</td>\n",
              "      <td>Isha</td>\n",
              "      <td>isha@example.com</td>\n",
              "      <td>Nature, Adventure</td>\n",
              "      <td>Female</td>\n",
              "      <td>2</td>\n",
              "      <td>0</td>\n",
              "    </tr>\n",
              "    <tr>\n",
              "      <th>4</th>\n",
              "      <td>6</td>\n",
              "      <td>473</td>\n",
              "      <td>408</td>\n",
              "      <td>4</td>\n",
              "      <td>A historical wonder</td>\n",
              "      <td>Jaipur City</td>\n",
              "      <td>Rajasthan</td>\n",
              "      <td>City</td>\n",
              "      <td>8.138558</td>\n",
              "      <td>Oct-Mar</td>\n",
              "      <td>331</td>\n",
              "      <td>403</td>\n",
              "      <td>2024-01-01</td>\n",
              "      <td>2</td>\n",
              "      <td>Ishaan</td>\n",
              "      <td>ishaan@example.com</td>\n",
              "      <td>City, Historical</td>\n",
              "      <td>Male</td>\n",
              "      <td>2</td>\n",
              "      <td>0</td>\n",
              "    </tr>\n",
              "  </tbody>\n",
              "</table>\n",
              "</div>"
            ],
            "text/plain": [
              "   ReviewID  DestinationID_x  UserID  Rating            ReviewText  \\\n",
              "0         1              178     327       2  Incredible monument!   \n",
              "1         2              411     783       1    Loved the beaches!   \n",
              "2         4              358     959       3  Incredible monument!   \n",
              "3         5              989     353       2    Loved the beaches!   \n",
              "4         6              473     408       4   A historical wonder   \n",
              "\n",
              "              Name_x          State        Type  Popularity BestTimeToVisit  \\\n",
              "0        Jaipur City      Rajasthan        City    8.544352         Oct-Mar   \n",
              "1          Taj Mahal  Uttar Pradesh  Historical    8.284127         Nov-Feb   \n",
              "2        Jaipur City      Rajasthan        City    7.738761         Oct-Mar   \n",
              "3  Kerala Backwaters         Kerala      Nature    8.208088         Sep-Mar   \n",
              "4        Jaipur City      Rajasthan        City    8.138558         Oct-Mar   \n",
              "\n",
              "   HistoryID  DestinationID_y   VisitDate  ExperienceRating  Name_y  \\\n",
              "0         79              175  2024-01-01                 3   Pooja   \n",
              "1        834              894  2024-03-20                 2   Karan   \n",
              "2        998              660  2024-02-15                 4  Ritvik   \n",
              "3        202              894  2024-01-01                 5    Isha   \n",
              "4        331              403  2024-01-01                 2  Ishaan   \n",
              "\n",
              "                Email        Preferences  Gender  NumberOfAdults  \\\n",
              "0   pooja@example.com   City, Historical  Female               1   \n",
              "1   karan@example.com   City, Historical    Male               1   \n",
              "2  ritvik@example.com  Nature, Adventure    Male               1   \n",
              "3    isha@example.com  Nature, Adventure  Female               2   \n",
              "4  ishaan@example.com   City, Historical    Male               2   \n",
              "\n",
              "   NumberOfChildren  \n",
              "0                 1  \n",
              "1                 1  \n",
              "2                 1  \n",
              "3                 0  \n",
              "4                 0  "
            ]
          },
          "execution_count": 204,
          "metadata": {},
          "output_type": "execute_result"
        }
      ],
      "source": [
        "reviews_destination = pd.merge(reviews,destinations,on='DestinationID', how='inner')\n",
        "reviews_destination_userhistory = pd.merge(reviews_destination,userHistory,on='UserID', how='inner')\n",
        "df = pd.merge(reviews_destination_userhistory,users,on='UserID', how='inner')\n",
        "df.head()"
      ]
    },
    {
      "cell_type": "code",
      "execution_count": 205,
      "metadata": {
        "colab": {
          "base_uri": "https://localhost:8080/"
        },
        "id": "ztZaWDQYfIY4",
        "outputId": "b9c6e73f-e395-4819-fb51-46c232582394"
      },
      "outputs": [
        {
          "data": {
            "text/plain": [
              "(993, 20)"
            ]
          },
          "execution_count": 205,
          "metadata": {},
          "output_type": "execute_result"
        }
      ],
      "source": [
        "df.shape"
      ]
    },
    {
      "cell_type": "code",
      "execution_count": 206,
      "metadata": {
        "colab": {
          "base_uri": "https://localhost:8080/"
        },
        "id": "voCKrjZwfug1",
        "outputId": "869d0895-d10d-405c-b375-5404be6d1fc7"
      },
      "outputs": [
        {
          "data": {
            "text/plain": [
              "np.int64(0)"
            ]
          },
          "execution_count": 206,
          "metadata": {},
          "output_type": "execute_result"
        }
      ],
      "source": [
        "df.duplicated().sum()"
      ]
    },
    {
      "cell_type": "code",
      "execution_count": 207,
      "metadata": {
        "colab": {
          "base_uri": "https://localhost:8080/",
          "height": 711
        },
        "id": "6NSOzD7xfzBf",
        "outputId": "344dda3d-5882-4abf-874f-2e9e04e9ed22"
      },
      "outputs": [
        {
          "data": {
            "text/plain": [
              "ReviewID            0\n",
              "DestinationID_x     0\n",
              "UserID              0\n",
              "Rating              0\n",
              "ReviewText          0\n",
              "Name_x              0\n",
              "State               0\n",
              "Type                0\n",
              "Popularity          0\n",
              "BestTimeToVisit     0\n",
              "HistoryID           0\n",
              "DestinationID_y     0\n",
              "VisitDate           0\n",
              "ExperienceRating    0\n",
              "Name_y              0\n",
              "Email               0\n",
              "Preferences         0\n",
              "Gender              0\n",
              "NumberOfAdults      0\n",
              "NumberOfChildren    0\n",
              "dtype: int64"
            ]
          },
          "execution_count": 207,
          "metadata": {},
          "output_type": "execute_result"
        }
      ],
      "source": [
        "df.isnull().sum()"
      ]
    },
    {
      "cell_type": "markdown",
      "metadata": {
        "id": "CuEITD42Px6z"
      },
      "source": [
        "### Data Visualization"
      ]
    },
    {
      "cell_type": "code",
      "execution_count": 208,
      "metadata": {
        "colab": {
          "base_uri": "https://localhost:8080/",
          "height": 564
        },
        "id": "rsL9XDO9f2Ep",
        "outputId": "e30533d7-2c25-47ce-a388-b99e3662d571"
      },
      "outputs": [
        {
          "data": {
            "image/png": "[encoded data removed]",
            "text/plain": [
              "<Figure size 1000x600 with 1 Axes>"
            ]
          },
          "metadata": {},
          "output_type": "display_data"
        }
      ],
      "source": [
        "# Destination popularity\n",
        "plt.figure(figsize=(10,6))\n",
        "sns.barplot(x='Popularity', y='Name', data = destinations.sort_values\n",
        "           (by='Popularity',ascending=False), hue='Popularity', palette='viridis')\n",
        "plt.title('Destination Popularity')\n",
        "plt.xlabel('Popularity')\n",
        "plt.ylabel('Destination')\n",
        "plt.show()"
      ]
    },
    {
      "cell_type": "code",
      "execution_count": 209,
      "metadata": {
        "colab": {
          "base_uri": "https://localhost:8080/",
          "height": 564
        },
        "id": "dzDJaEOiQvhl",
        "outputId": "6b66afef-b4a2-406a-de84-284c1c18354e"
      },
      "outputs": [
        {
          "data": {
            "image/png": "[encoded data removed]",
            "text/plain": [
              "<Figure size 1000x600 with 1 Axes>"
            ]
          },
          "metadata": {},
          "output_type": "display_data"
        }
      ],
      "source": [
        "# Destination Types Distribution\n",
        "plt.figure(figsize=(10,6))\n",
        "sns.countplot(y='Type', data=destinations,hue='Type', palette='coolwarm')\n",
        "plt.title('Destination Types Distribution')\n",
        "plt.xlabel('Count')\n",
        "plt.ylabel('Type')\n",
        "plt.show()"
      ]
    },
    {
      "cell_type": "code",
      "execution_count": 210,
      "metadata": {
        "colab": {
          "base_uri": "https://localhost:8080/",
          "height": 564
        },
        "id": "2ngiVlFGR3ma",
        "outputId": "6329ac9a-cd3e-4888-e50d-f6e8214697b3"
      },
      "outputs": [
        {
          "data": {
            "image/png": "[encoded data removed]",
            "text/plain": [
              "<Figure size 1000x600 with 1 Axes>"
            ]
          },
          "metadata": {},
          "output_type": "display_data"
        }
      ],
      "source": [
        "# Rating Distribution\n",
        "plt.figure(figsize=(10,6))\n",
        "sns.histplot(df['Rating'], bins=5, kde=True)\n",
        "plt.title('Rating Distribution')\n",
        "plt.xlabel('Rating')\n",
        "plt.ylabel('Count')\n",
        "plt.show()"
      ]
    },
    {
      "cell_type": "markdown",
      "metadata": {
        "id": "mZTaUD5ZTnTp"
      },
      "source": [
        "### Content-Based Recommendation Model"
      ]
    },
    {
      "cell_type": "markdown",
      "metadata": {
        "id": "2f4ZeXIbUKMv"
      },
      "source": [
        "#### Prepare the Destination Features\n"
      ]
    },
    {
      "cell_type": "code",
      "execution_count": 211,
      "metadata": {
        "id": "DzzdslciTcFg"
      },
      "outputs": [],
      "source": [
        "df['features'] = (\n",
        "    df['Type'].astype(str) + \" \" +\n",
        "    df['State'].astype(str) + \" \" +\n",
        "    df['BestTimeToVisit'].astype(str) + \" \" +\n",
        "    df['Preferences'].astype(str)\n",
        ")"
      ]
    },
    {
      "cell_type": "code",
      "execution_count": 212,
      "metadata": {
        "colab": {
          "base_uri": "https://localhost:8080/",
          "height": 620
        },
        "id": "OarKbLIcVvZc",
        "outputId": "8e6c8fb2-78f6-4631-eb5b-3e52c89bc165"
      },
      "outputs": [],
      "source": [
        "df.head()\n",
        "df.to_csv('../data/final_df.csv', index=False)"
      ]
    },
    {
      "cell_type": "code",
      "execution_count": 213,
      "metadata": {
        "colab": {
          "base_uri": "https://localhost:8080/"
        },
        "id": "OCXTUNQxVwPo",
        "outputId": "7aa1fb54-684e-48ef-b616-ec5213e79702"
      },
      "outputs": [
        {
          "data": {
            "text/plain": [
              "array([[0.        , 0.        , 0.        , ..., 0.47425946, 0.        ,\n",
              "        0.        ],\n",
              "       [0.        , 0.        , 0.        , ..., 0.        , 0.        ,\n",
              "        0.4433145 ],\n",
              "       [0.34511087, 0.        , 0.        , ..., 0.51672584, 0.        ,\n",
              "        0.        ],\n",
              "       ...,\n",
              "       [0.        , 0.        , 0.        , ..., 0.        , 0.        ,\n",
              "        0.43591168],\n",
              "       [0.        , 0.        , 0.        , ..., 0.        , 0.        ,\n",
              "        0.43591168],\n",
              "       [0.        , 0.        , 0.        , ..., 0.47425946, 0.        ,\n",
              "        0.        ]], shape=(993, 20))"
            ]
          },
          "execution_count": 213,
          "metadata": {},
          "output_type": "execute_result"
        }
      ],
      "source": [
        "vectorizer = TfidfVectorizer(stop_words='english')\n",
        "destination_features = vectorizer.fit_transform(df['features'])\n",
        "\n",
        "destination_features.toarray()"
      ]
    },
    {
      "cell_type": "code",
      "execution_count": 214,
      "metadata": {
        "id": "6h7wXkN0WoF5"
      },
      "outputs": [],
      "source": [
        "cos_sim = cosine_similarity(destination_features,destination_features)"
      ]
    },
    {
      "cell_type": "code",
      "execution_count": 215,
      "metadata": {
        "colab": {
          "base_uri": "https://localhost:8080/"
        },
        "id": "A-o-hvYCFnFJ",
        "outputId": "9ee24aa6-9e70-4379-c3a5-7ac7f78b1ff5"
      },
      "outputs": [
        {
          "data": {
            "text/plain": [
              "array([[1.        , 0.30209204, 0.80314548, ..., 0.10628488, 0.10628488,\n",
              "        1.        ],\n",
              "       [0.30209204, 1.        , 0.10568682, ..., 0.89329488, 0.89329488,\n",
              "        0.30209204],\n",
              "       [0.80314548, 0.10568682, 1.        , ..., 0.        , 0.        ,\n",
              "        0.80314548],\n",
              "       ...,\n",
              "       [0.10628488, 0.89329488, 0.        , ..., 1.        , 1.        ,\n",
              "        0.10628488],\n",
              "       [0.10628488, 0.89329488, 0.        , ..., 1.        , 1.        ,\n",
              "        0.10628488],\n",
              "       [1.        , 0.30209204, 0.80314548, ..., 0.10628488, 0.10628488,\n",
              "        1.        ]], shape=(993, 993))"
            ]
          },
          "execution_count": 215,
          "metadata": {},
          "output_type": "execute_result"
        }
      ],
      "source": [
        "cos_sim"
      ]
    },
    {
      "cell_type": "markdown",
      "metadata": {
        "id": "29CjlQ6xGFtt"
      },
      "source": [
        "#### Recommendation Function"
      ]
    },
    {
      "cell_type": "code",
      "execution_count": 216,
      "metadata": {
        "id": "FKljRASqFtR7"
      },
      "outputs": [],
      "source": [
        "def recommend_destinations(user_id,userHistory, destinations,cos_sim):\n",
        "  visited_destinations = userHistory[userHistory['UserID'] == user_id]['DestinationID'].values\n",
        "  # calculate similarity scores for visited destinations\n",
        "  similar_scores = np.sum(cos_sim[visited_destinations-1],axis=0)\n",
        "  recommended_destinations = np.argsort(similar_scores)[::-1]\n",
        "  # Recommend top five destination where user hasn't visited\n",
        "  recommend = []\n",
        "  for idx in recommended_destinations:\n",
        "    if destinations.iloc[idx]['DestinationID'] not in visited_destinations:\n",
        "      recommend.append(destinations.iloc[idx][['DestinationID','Name','State','Type','BestTimeToVisit']].to_dict())\n",
        "      if len(recommend) == 5:\n",
        "        break\n",
        "  return pd.DataFrame(recommend)\n",
        "\n",
        "\n",
        "recommend_destinations = recommend_destinations(1,userHistory,destinations,cos_sim)"
      ]
    },
    {
      "cell_type": "code",
      "execution_count": 217,
      "metadata": {
        "colab": {
          "base_uri": "https://localhost:8080/",
          "height": 206
        },
        "id": "Ypf3sWrwKPPU",
        "outputId": "3385c392-7451-4dbf-f003-51a7feedef14"
      },
      "outputs": [
        {
          "data": {
            "text/html": [
              "<div>\n",
              "<style scoped>\n",
              "    .dataframe tbody tr th:only-of-type {\n",
              "        vertical-align: middle;\n",
              "    }\n",
              "\n",
              "    .dataframe tbody tr th {\n",
              "        vertical-align: top;\n",
              "    }\n",
              "\n",
              "    .dataframe thead th {\n",
              "        text-align: right;\n",
              "    }\n",
              "</style>\n",
              "<table border=\"1\" class=\"dataframe\">\n",
              "  <thead>\n",
              "    <tr style=\"text-align: right;\">\n",
              "      <th></th>\n",
              "      <th>DestinationID</th>\n",
              "      <th>Name</th>\n",
              "      <th>State</th>\n",
              "      <th>Type</th>\n",
              "      <th>BestTimeToVisit</th>\n",
              "    </tr>\n",
              "  </thead>\n",
              "  <tbody>\n",
              "    <tr>\n",
              "      <th>0</th>\n",
              "      <td>64</td>\n",
              "      <td>Kerala Backwaters</td>\n",
              "      <td>Kerala</td>\n",
              "      <td>Nature</td>\n",
              "      <td>Sep-Mar</td>\n",
              "    </tr>\n",
              "    <tr>\n",
              "      <th>1</th>\n",
              "      <td>62</td>\n",
              "      <td>Goa Beaches</td>\n",
              "      <td>Goa</td>\n",
              "      <td>Beach</td>\n",
              "      <td>Nov-Mar</td>\n",
              "    </tr>\n",
              "    <tr>\n",
              "      <th>2</th>\n",
              "      <td>63</td>\n",
              "      <td>Jaipur City</td>\n",
              "      <td>Rajasthan</td>\n",
              "      <td>City</td>\n",
              "      <td>Oct-Mar</td>\n",
              "    </tr>\n",
              "    <tr>\n",
              "      <th>3</th>\n",
              "      <td>41</td>\n",
              "      <td>Taj Mahal</td>\n",
              "      <td>Uttar Pradesh</td>\n",
              "      <td>Historical</td>\n",
              "      <td>Nov-Feb</td>\n",
              "    </tr>\n",
              "    <tr>\n",
              "      <th>4</th>\n",
              "      <td>42</td>\n",
              "      <td>Goa Beaches</td>\n",
              "      <td>Goa</td>\n",
              "      <td>Beach</td>\n",
              "      <td>Nov-Mar</td>\n",
              "    </tr>\n",
              "  </tbody>\n",
              "</table>\n",
              "</div>"
            ],
            "text/plain": [
              "   DestinationID               Name          State        Type BestTimeToVisit\n",
              "0             64  Kerala Backwaters         Kerala      Nature         Sep-Mar\n",
              "1             62        Goa Beaches            Goa       Beach         Nov-Mar\n",
              "2             63        Jaipur City      Rajasthan        City         Oct-Mar\n",
              "3             41          Taj Mahal  Uttar Pradesh  Historical         Nov-Feb\n",
              "4             42        Goa Beaches            Goa       Beach         Nov-Mar"
            ]
          },
          "execution_count": 217,
          "metadata": {},
          "output_type": "execute_result"
        }
      ],
      "source": [
        "recommend_destinations.head()"
      ]
    },
    {
      "cell_type": "markdown",
      "metadata": {
        "id": "N85ZdweXRf_O"
      },
      "source": [
        "### Collaborative Filtering"
      ]
    },
    {
      "cell_type": "markdown",
      "metadata": {
        "id": "Lj2sq8JdRjZg"
      },
      "source": [
        "#### Create a User-Item Matrix"
      ]
    },
    {
      "cell_type": "code",
      "execution_count": 218,
      "metadata": {
        "colab": {
          "base_uri": "https://localhost:8080/",
          "height": 267
        },
        "id": "Jv--Gt0fKdyO",
        "outputId": "447fcec9-0579-42dd-814a-69ceb3490ca4"
      },
      "outputs": [
        {
          "data": {
            "text/html": [
              "<div>\n",
              "<style scoped>\n",
              "    .dataframe tbody tr th:only-of-type {\n",
              "        vertical-align: middle;\n",
              "    }\n",
              "\n",
              "    .dataframe tbody tr th {\n",
              "        vertical-align: top;\n",
              "    }\n",
              "\n",
              "    .dataframe thead th {\n",
              "        text-align: right;\n",
              "    }\n",
              "</style>\n",
              "<table border=\"1\" class=\"dataframe\">\n",
              "  <thead>\n",
              "    <tr style=\"text-align: right;\">\n",
              "      <th>DestinationID</th>\n",
              "      <th>2</th>\n",
              "      <th>3</th>\n",
              "      <th>4</th>\n",
              "      <th>5</th>\n",
              "      <th>6</th>\n",
              "      <th>7</th>\n",
              "      <th>8</th>\n",
              "      <th>9</th>\n",
              "      <th>10</th>\n",
              "      <th>11</th>\n",
              "      <th>...</th>\n",
              "      <th>987</th>\n",
              "      <th>988</th>\n",
              "      <th>990</th>\n",
              "      <th>991</th>\n",
              "      <th>993</th>\n",
              "      <th>994</th>\n",
              "      <th>996</th>\n",
              "      <th>997</th>\n",
              "      <th>998</th>\n",
              "      <th>1000</th>\n",
              "    </tr>\n",
              "    <tr>\n",
              "      <th>UserID</th>\n",
              "      <th></th>\n",
              "      <th></th>\n",
              "      <th></th>\n",
              "      <th></th>\n",
              "      <th></th>\n",
              "      <th></th>\n",
              "      <th></th>\n",
              "      <th></th>\n",
              "      <th></th>\n",
              "      <th></th>\n",
              "      <th></th>\n",
              "      <th></th>\n",
              "      <th></th>\n",
              "      <th></th>\n",
              "      <th></th>\n",
              "      <th></th>\n",
              "      <th></th>\n",
              "      <th></th>\n",
              "      <th></th>\n",
              "      <th></th>\n",
              "      <th></th>\n",
              "    </tr>\n",
              "  </thead>\n",
              "  <tbody>\n",
              "    <tr>\n",
              "      <th>1</th>\n",
              "      <td>0.0</td>\n",
              "      <td>0.0</td>\n",
              "      <td>0.0</td>\n",
              "      <td>0.0</td>\n",
              "      <td>0.0</td>\n",
              "      <td>0.0</td>\n",
              "      <td>0.0</td>\n",
              "      <td>0.0</td>\n",
              "      <td>0.0</td>\n",
              "      <td>0.0</td>\n",
              "      <td>...</td>\n",
              "      <td>0.0</td>\n",
              "      <td>0.0</td>\n",
              "      <td>0.0</td>\n",
              "      <td>0.0</td>\n",
              "      <td>0.0</td>\n",
              "      <td>0.0</td>\n",
              "      <td>0.0</td>\n",
              "      <td>0.0</td>\n",
              "      <td>0.0</td>\n",
              "      <td>0.0</td>\n",
              "    </tr>\n",
              "    <tr>\n",
              "      <th>2</th>\n",
              "      <td>0.0</td>\n",
              "      <td>0.0</td>\n",
              "      <td>0.0</td>\n",
              "      <td>0.0</td>\n",
              "      <td>0.0</td>\n",
              "      <td>0.0</td>\n",
              "      <td>0.0</td>\n",
              "      <td>0.0</td>\n",
              "      <td>0.0</td>\n",
              "      <td>0.0</td>\n",
              "      <td>...</td>\n",
              "      <td>0.0</td>\n",
              "      <td>0.0</td>\n",
              "      <td>0.0</td>\n",
              "      <td>0.0</td>\n",
              "      <td>0.0</td>\n",
              "      <td>0.0</td>\n",
              "      <td>0.0</td>\n",
              "      <td>0.0</td>\n",
              "      <td>0.0</td>\n",
              "      <td>0.0</td>\n",
              "    </tr>\n",
              "    <tr>\n",
              "      <th>3</th>\n",
              "      <td>0.0</td>\n",
              "      <td>0.0</td>\n",
              "      <td>0.0</td>\n",
              "      <td>0.0</td>\n",
              "      <td>0.0</td>\n",
              "      <td>0.0</td>\n",
              "      <td>0.0</td>\n",
              "      <td>0.0</td>\n",
              "      <td>0.0</td>\n",
              "      <td>0.0</td>\n",
              "      <td>...</td>\n",
              "      <td>0.0</td>\n",
              "      <td>0.0</td>\n",
              "      <td>0.0</td>\n",
              "      <td>0.0</td>\n",
              "      <td>0.0</td>\n",
              "      <td>0.0</td>\n",
              "      <td>0.0</td>\n",
              "      <td>0.0</td>\n",
              "      <td>0.0</td>\n",
              "      <td>0.0</td>\n",
              "    </tr>\n",
              "    <tr>\n",
              "      <th>5</th>\n",
              "      <td>0.0</td>\n",
              "      <td>0.0</td>\n",
              "      <td>0.0</td>\n",
              "      <td>0.0</td>\n",
              "      <td>0.0</td>\n",
              "      <td>0.0</td>\n",
              "      <td>0.0</td>\n",
              "      <td>0.0</td>\n",
              "      <td>0.0</td>\n",
              "      <td>0.0</td>\n",
              "      <td>...</td>\n",
              "      <td>0.0</td>\n",
              "      <td>0.0</td>\n",
              "      <td>0.0</td>\n",
              "      <td>0.0</td>\n",
              "      <td>0.0</td>\n",
              "      <td>0.0</td>\n",
              "      <td>0.0</td>\n",
              "      <td>0.0</td>\n",
              "      <td>0.0</td>\n",
              "      <td>0.0</td>\n",
              "    </tr>\n",
              "    <tr>\n",
              "      <th>7</th>\n",
              "      <td>0.0</td>\n",
              "      <td>0.0</td>\n",
              "      <td>0.0</td>\n",
              "      <td>0.0</td>\n",
              "      <td>0.0</td>\n",
              "      <td>0.0</td>\n",
              "      <td>0.0</td>\n",
              "      <td>0.0</td>\n",
              "      <td>0.0</td>\n",
              "      <td>0.0</td>\n",
              "      <td>...</td>\n",
              "      <td>0.0</td>\n",
              "      <td>0.0</td>\n",
              "      <td>0.0</td>\n",
              "      <td>0.0</td>\n",
              "      <td>0.0</td>\n",
              "      <td>0.0</td>\n",
              "      <td>0.0</td>\n",
              "      <td>0.0</td>\n",
              "      <td>0.0</td>\n",
              "      <td>0.0</td>\n",
              "    </tr>\n",
              "  </tbody>\n",
              "</table>\n",
              "<p>5 rows × 638 columns</p>\n",
              "</div>"
            ],
            "text/plain": [
              "DestinationID  2     3     4     5     6     7     8     9     10    11    \\\n",
              "UserID                                                                      \n",
              "1               0.0   0.0   0.0   0.0   0.0   0.0   0.0   0.0   0.0   0.0   \n",
              "2               0.0   0.0   0.0   0.0   0.0   0.0   0.0   0.0   0.0   0.0   \n",
              "3               0.0   0.0   0.0   0.0   0.0   0.0   0.0   0.0   0.0   0.0   \n",
              "5               0.0   0.0   0.0   0.0   0.0   0.0   0.0   0.0   0.0   0.0   \n",
              "7               0.0   0.0   0.0   0.0   0.0   0.0   0.0   0.0   0.0   0.0   \n",
              "\n",
              "DestinationID  ...  987   988   990   991   993   994   996   997   998   1000  \n",
              "UserID         ...                                                              \n",
              "1              ...   0.0   0.0   0.0   0.0   0.0   0.0   0.0   0.0   0.0   0.0  \n",
              "2              ...   0.0   0.0   0.0   0.0   0.0   0.0   0.0   0.0   0.0   0.0  \n",
              "3              ...   0.0   0.0   0.0   0.0   0.0   0.0   0.0   0.0   0.0   0.0  \n",
              "5              ...   0.0   0.0   0.0   0.0   0.0   0.0   0.0   0.0   0.0   0.0  \n",
              "7              ...   0.0   0.0   0.0   0.0   0.0   0.0   0.0   0.0   0.0   0.0  \n",
              "\n",
              "[5 rows x 638 columns]"
            ]
          },
          "execution_count": 218,
          "metadata": {},
          "output_type": "execute_result"
        }
      ],
      "source": [
        "user_item_matrix = userHistory.pivot(index='UserID', columns='DestinationID', values='ExperienceRating')\n",
        "user_item_matrix.fillna(0,inplace=True)\n",
        "user_item_matrix.head()"
      ]
    },
    {
      "cell_type": "markdown",
      "metadata": {
        "id": "mDRyd4y2S5Ka"
      },
      "source": [
        "#### Cosine Similarity Between Users"
      ]
    },
    {
      "cell_type": "code",
      "execution_count": 219,
      "metadata": {
        "id": "MVjA7jAgR7xQ"
      },
      "outputs": [],
      "source": [
        "user_sim = cosine_similarity(user_item_matrix,user_item_matrix)"
      ]
    },
    {
      "cell_type": "code",
      "execution_count": 220,
      "metadata": {
        "colab": {
          "base_uri": "https://localhost:8080/"
        },
        "id": "0hs-wGQTTGTj",
        "outputId": "61ced256-c537-4857-ef23-ccb46aba5acb"
      },
      "outputs": [
        {
          "data": {
            "text/plain": [
              "array([[1., 0., 0., ..., 0., 0., 0.],\n",
              "       [0., 1., 0., ..., 0., 0., 0.],\n",
              "       [0., 0., 1., ..., 0., 0., 0.],\n",
              "       ...,\n",
              "       [0., 0., 0., ..., 1., 0., 0.],\n",
              "       [0., 0., 0., ..., 0., 1., 0.],\n",
              "       [0., 0., 0., ..., 0., 0., 1.]], shape=(642, 642))"
            ]
          },
          "execution_count": 220,
          "metadata": {},
          "output_type": "execute_result"
        }
      ],
      "source": [
        "user_sim"
      ]
    },
    {
      "cell_type": "code",
      "execution_count": 221,
      "metadata": {
        "id": "QAs0syRSTHvT"
      },
      "outputs": [],
      "source": [
        "def collaborative_recommend(userID, user_sim, user_item_matrix, destinations):\n",
        "  #Find similar users\n",
        "  similar_users = user_sim[userID - 1]\n",
        "  #Get five similar users\n",
        "  similar_users_idx = np.argsort(similar_users)[::-1][1:6]\n",
        "  #Get the destinations that the similar users liked\n",
        "  similar_users_ratings = user_item_matrix.iloc[similar_users_idx].mean(axis=0)\n",
        "  recommended_destinations = similar_users_ratings.sort_values(ascending=False).head(5).index\n",
        "  # recommend top 5 items\n",
        "  recommendations = destinations[destinations['DestinationID'].isin(recommended_destinations)][[\n",
        "      'DestinationID','Name','Type','State','BestTimeToVisit']]\n",
        "  return recommendations"
      ]
    },
    {
      "cell_type": "code",
      "execution_count": 222,
      "metadata": {
        "colab": {
          "base_uri": "https://localhost:8080/",
          "height": 206
        },
        "id": "4zfqruGcX8KP",
        "outputId": "5526adee-22f8-43f6-c068-ea6411479454"
      },
      "outputs": [
        {
          "data": {
            "text/html": [
              "<div>\n",
              "<style scoped>\n",
              "    .dataframe tbody tr th:only-of-type {\n",
              "        vertical-align: middle;\n",
              "    }\n",
              "\n",
              "    .dataframe tbody tr th {\n",
              "        vertical-align: top;\n",
              "    }\n",
              "\n",
              "    .dataframe thead th {\n",
              "        text-align: right;\n",
              "    }\n",
              "</style>\n",
              "<table border=\"1\" class=\"dataframe\">\n",
              "  <thead>\n",
              "    <tr style=\"text-align: right;\">\n",
              "      <th></th>\n",
              "      <th>DestinationID</th>\n",
              "      <th>Name</th>\n",
              "      <th>Type</th>\n",
              "      <th>State</th>\n",
              "      <th>BestTimeToVisit</th>\n",
              "    </tr>\n",
              "  </thead>\n",
              "  <tbody>\n",
              "    <tr>\n",
              "      <th>300</th>\n",
              "      <td>301</td>\n",
              "      <td>Taj Mahal</td>\n",
              "      <td>Historical</td>\n",
              "      <td>Uttar Pradesh</td>\n",
              "      <td>Nov-Feb</td>\n",
              "    </tr>\n",
              "    <tr>\n",
              "      <th>345</th>\n",
              "      <td>346</td>\n",
              "      <td>Taj Mahal</td>\n",
              "      <td>Historical</td>\n",
              "      <td>Uttar Pradesh</td>\n",
              "      <td>Nov-Feb</td>\n",
              "    </tr>\n",
              "    <tr>\n",
              "      <th>367</th>\n",
              "      <td>368</td>\n",
              "      <td>Jaipur City</td>\n",
              "      <td>City</td>\n",
              "      <td>Rajasthan</td>\n",
              "      <td>Oct-Mar</td>\n",
              "    </tr>\n",
              "    <tr>\n",
              "      <th>724</th>\n",
              "      <td>725</td>\n",
              "      <td>Leh Ladakh</td>\n",
              "      <td>Adventure</td>\n",
              "      <td>Jammu and Kashmir</td>\n",
              "      <td>Apr-Jun</td>\n",
              "    </tr>\n",
              "    <tr>\n",
              "      <th>969</th>\n",
              "      <td>970</td>\n",
              "      <td>Leh Ladakh</td>\n",
              "      <td>Adventure</td>\n",
              "      <td>Jammu and Kashmir</td>\n",
              "      <td>Apr-Jun</td>\n",
              "    </tr>\n",
              "  </tbody>\n",
              "</table>\n",
              "</div>"
            ],
            "text/plain": [
              "     DestinationID         Name        Type              State BestTimeToVisit\n",
              "300            301    Taj Mahal  Historical      Uttar Pradesh         Nov-Feb\n",
              "345            346    Taj Mahal  Historical      Uttar Pradesh         Nov-Feb\n",
              "367            368  Jaipur City        City          Rajasthan         Oct-Mar\n",
              "724            725   Leh Ladakh   Adventure  Jammu and Kashmir         Apr-Jun\n",
              "969            970   Leh Ladakh   Adventure  Jammu and Kashmir         Apr-Jun"
            ]
          },
          "execution_count": 222,
          "metadata": {},
          "output_type": "execute_result"
        }
      ],
      "source": [
        "collaborative_recommendation = collaborative_recommend(11,user_sim,user_item_matrix,destinations)\n",
        "\n",
        "collaborative_recommendation.head()"
      ]
    },
    {
      "cell_type": "markdown",
      "metadata": {
        "id": "NzqtO3kfct4e"
      },
      "source": [
        "### User input feature based Recommendation"
      ]
    },
    {
      "cell_type": "code",
      "execution_count": 223,
      "metadata": {
        "colab": {
          "base_uri": "https://localhost:8080/",
          "height": 1000
        },
        "id": "nLTD7EpaZyYa",
        "outputId": "5a755b03-3500-4464-a88e-0df7a6d48d94"
      },
      "outputs": [
        {
          "data": {
            "text/html": [
              "<div>\n",
              "<style scoped>\n",
              "    .dataframe tbody tr th:only-of-type {\n",
              "        vertical-align: middle;\n",
              "    }\n",
              "\n",
              "    .dataframe tbody tr th {\n",
              "        vertical-align: top;\n",
              "    }\n",
              "\n",
              "    .dataframe thead th {\n",
              "        text-align: right;\n",
              "    }\n",
              "</style>\n",
              "<table border=\"1\" class=\"dataframe\">\n",
              "  <thead>\n",
              "    <tr style=\"text-align: right;\">\n",
              "      <th></th>\n",
              "      <th>ReviewID</th>\n",
              "      <th>DestinationID_x</th>\n",
              "      <th>UserID</th>\n",
              "      <th>Rating</th>\n",
              "      <th>ReviewText</th>\n",
              "      <th>Name_x</th>\n",
              "      <th>State</th>\n",
              "      <th>Type</th>\n",
              "      <th>Popularity</th>\n",
              "      <th>BestTimeToVisit</th>\n",
              "      <th>...</th>\n",
              "      <th>DestinationID_y</th>\n",
              "      <th>VisitDate</th>\n",
              "      <th>ExperienceRating</th>\n",
              "      <th>Name_y</th>\n",
              "      <th>Email</th>\n",
              "      <th>Preferences</th>\n",
              "      <th>Gender</th>\n",
              "      <th>NumberOfAdults</th>\n",
              "      <th>NumberOfChildren</th>\n",
              "      <th>features</th>\n",
              "    </tr>\n",
              "  </thead>\n",
              "  <tbody>\n",
              "    <tr>\n",
              "      <th>0</th>\n",
              "      <td>1</td>\n",
              "      <td>178</td>\n",
              "      <td>327</td>\n",
              "      <td>2</td>\n",
              "      <td>Incredible monument!</td>\n",
              "      <td>Jaipur City</td>\n",
              "      <td>Rajasthan</td>\n",
              "      <td>City</td>\n",
              "      <td>8.544352</td>\n",
              "      <td>Oct-Mar</td>\n",
              "      <td>...</td>\n",
              "      <td>175</td>\n",
              "      <td>2024-01-01</td>\n",
              "      <td>3</td>\n",
              "      <td>Pooja</td>\n",
              "      <td>pooja@example.com</td>\n",
              "      <td>City, Historical</td>\n",
              "      <td>Female</td>\n",
              "      <td>1</td>\n",
              "      <td>1</td>\n",
              "      <td>City Rajasthan Oct-Mar City, Historical</td>\n",
              "    </tr>\n",
              "    <tr>\n",
              "      <th>1</th>\n",
              "      <td>2</td>\n",
              "      <td>411</td>\n",
              "      <td>783</td>\n",
              "      <td>1</td>\n",
              "      <td>Loved the beaches!</td>\n",
              "      <td>Taj Mahal</td>\n",
              "      <td>Uttar Pradesh</td>\n",
              "      <td>Historical</td>\n",
              "      <td>8.284127</td>\n",
              "      <td>Nov-Feb</td>\n",
              "      <td>...</td>\n",
              "      <td>894</td>\n",
              "      <td>2024-03-20</td>\n",
              "      <td>2</td>\n",
              "      <td>Karan</td>\n",
              "      <td>karan@example.com</td>\n",
              "      <td>City, Historical</td>\n",
              "      <td>Male</td>\n",
              "      <td>1</td>\n",
              "      <td>1</td>\n",
              "      <td>Historical Uttar Pradesh Nov-Feb City, Historical</td>\n",
              "    </tr>\n",
              "    <tr>\n",
              "      <th>2</th>\n",
              "      <td>4</td>\n",
              "      <td>358</td>\n",
              "      <td>959</td>\n",
              "      <td>3</td>\n",
              "      <td>Incredible monument!</td>\n",
              "      <td>Jaipur City</td>\n",
              "      <td>Rajasthan</td>\n",
              "      <td>City</td>\n",
              "      <td>7.738761</td>\n",
              "      <td>Oct-Mar</td>\n",
              "      <td>...</td>\n",
              "      <td>660</td>\n",
              "      <td>2024-02-15</td>\n",
              "      <td>4</td>\n",
              "      <td>Ritvik</td>\n",
              "      <td>ritvik@example.com</td>\n",
              "      <td>Nature, Adventure</td>\n",
              "      <td>Male</td>\n",
              "      <td>1</td>\n",
              "      <td>1</td>\n",
              "      <td>City Rajasthan Oct-Mar Nature, Adventure</td>\n",
              "    </tr>\n",
              "    <tr>\n",
              "      <th>3</th>\n",
              "      <td>5</td>\n",
              "      <td>989</td>\n",
              "      <td>353</td>\n",
              "      <td>2</td>\n",
              "      <td>Loved the beaches!</td>\n",
              "      <td>Kerala Backwaters</td>\n",
              "      <td>Kerala</td>\n",
              "      <td>Nature</td>\n",
              "      <td>8.208088</td>\n",
              "      <td>Sep-Mar</td>\n",
              "      <td>...</td>\n",
              "      <td>894</td>\n",
              "      <td>2024-01-01</td>\n",
              "      <td>5</td>\n",
              "      <td>Isha</td>\n",
              "      <td>isha@example.com</td>\n",
              "      <td>Nature, Adventure</td>\n",
              "      <td>Female</td>\n",
              "      <td>2</td>\n",
              "      <td>0</td>\n",
              "      <td>Nature Kerala Sep-Mar Nature, Adventure</td>\n",
              "    </tr>\n",
              "    <tr>\n",
              "      <th>4</th>\n",
              "      <td>6</td>\n",
              "      <td>473</td>\n",
              "      <td>408</td>\n",
              "      <td>4</td>\n",
              "      <td>A historical wonder</td>\n",
              "      <td>Jaipur City</td>\n",
              "      <td>Rajasthan</td>\n",
              "      <td>City</td>\n",
              "      <td>8.138558</td>\n",
              "      <td>Oct-Mar</td>\n",
              "      <td>...</td>\n",
              "      <td>403</td>\n",
              "      <td>2024-01-01</td>\n",
              "      <td>2</td>\n",
              "      <td>Ishaan</td>\n",
              "      <td>ishaan@example.com</td>\n",
              "      <td>City, Historical</td>\n",
              "      <td>Male</td>\n",
              "      <td>2</td>\n",
              "      <td>0</td>\n",
              "      <td>City Rajasthan Oct-Mar City, Historical</td>\n",
              "    </tr>\n",
              "    <tr>\n",
              "      <th>...</th>\n",
              "      <td>...</td>\n",
              "      <td>...</td>\n",
              "      <td>...</td>\n",
              "      <td>...</td>\n",
              "      <td>...</td>\n",
              "      <td>...</td>\n",
              "      <td>...</td>\n",
              "      <td>...</td>\n",
              "      <td>...</td>\n",
              "      <td>...</td>\n",
              "      <td>...</td>\n",
              "      <td>...</td>\n",
              "      <td>...</td>\n",
              "      <td>...</td>\n",
              "      <td>...</td>\n",
              "      <td>...</td>\n",
              "      <td>...</td>\n",
              "      <td>...</td>\n",
              "      <td>...</td>\n",
              "      <td>...</td>\n",
              "      <td>...</td>\n",
              "    </tr>\n",
              "    <tr>\n",
              "      <th>988</th>\n",
              "      <td>991</td>\n",
              "      <td>701</td>\n",
              "      <td>850</td>\n",
              "      <td>3</td>\n",
              "      <td>Incredible monument!</td>\n",
              "      <td>Taj Mahal</td>\n",
              "      <td>Uttar Pradesh</td>\n",
              "      <td>Historical</td>\n",
              "      <td>8.814029</td>\n",
              "      <td>Nov-Feb</td>\n",
              "      <td>...</td>\n",
              "      <td>131</td>\n",
              "      <td>2024-03-20</td>\n",
              "      <td>1</td>\n",
              "      <td>Hitesh</td>\n",
              "      <td>hitesh@example.com</td>\n",
              "      <td>Beaches, Historical</td>\n",
              "      <td>Male</td>\n",
              "      <td>2</td>\n",
              "      <td>0</td>\n",
              "      <td>Historical Uttar Pradesh Nov-Feb Beaches, Hist...</td>\n",
              "    </tr>\n",
              "    <tr>\n",
              "      <th>989</th>\n",
              "      <td>991</td>\n",
              "      <td>701</td>\n",
              "      <td>850</td>\n",
              "      <td>3</td>\n",
              "      <td>Incredible monument!</td>\n",
              "      <td>Taj Mahal</td>\n",
              "      <td>Uttar Pradesh</td>\n",
              "      <td>Historical</td>\n",
              "      <td>8.814029</td>\n",
              "      <td>Nov-Feb</td>\n",
              "      <td>...</td>\n",
              "      <td>761</td>\n",
              "      <td>2024-01-01</td>\n",
              "      <td>4</td>\n",
              "      <td>Hitesh</td>\n",
              "      <td>hitesh@example.com</td>\n",
              "      <td>Beaches, Historical</td>\n",
              "      <td>Male</td>\n",
              "      <td>2</td>\n",
              "      <td>0</td>\n",
              "      <td>Historical Uttar Pradesh Nov-Feb Beaches, Hist...</td>\n",
              "    </tr>\n",
              "    <tr>\n",
              "      <th>990</th>\n",
              "      <td>995</td>\n",
              "      <td>231</td>\n",
              "      <td>346</td>\n",
              "      <td>5</td>\n",
              "      <td>Loved the beaches!</td>\n",
              "      <td>Taj Mahal</td>\n",
              "      <td>Uttar Pradesh</td>\n",
              "      <td>Historical</td>\n",
              "      <td>7.788256</td>\n",
              "      <td>Nov-Feb</td>\n",
              "      <td>...</td>\n",
              "      <td>113</td>\n",
              "      <td>2024-01-01</td>\n",
              "      <td>2</td>\n",
              "      <td>Hitesh</td>\n",
              "      <td>hitesh@example.com</td>\n",
              "      <td>Beaches, Historical</td>\n",
              "      <td>Male</td>\n",
              "      <td>2</td>\n",
              "      <td>2</td>\n",
              "      <td>Historical Uttar Pradesh Nov-Feb Beaches, Hist...</td>\n",
              "    </tr>\n",
              "    <tr>\n",
              "      <th>991</th>\n",
              "      <td>995</td>\n",
              "      <td>231</td>\n",
              "      <td>346</td>\n",
              "      <td>5</td>\n",
              "      <td>Loved the beaches!</td>\n",
              "      <td>Taj Mahal</td>\n",
              "      <td>Uttar Pradesh</td>\n",
              "      <td>Historical</td>\n",
              "      <td>7.788256</td>\n",
              "      <td>Nov-Feb</td>\n",
              "      <td>...</td>\n",
              "      <td>128</td>\n",
              "      <td>2024-01-01</td>\n",
              "      <td>4</td>\n",
              "      <td>Hitesh</td>\n",
              "      <td>hitesh@example.com</td>\n",
              "      <td>Beaches, Historical</td>\n",
              "      <td>Male</td>\n",
              "      <td>2</td>\n",
              "      <td>2</td>\n",
              "      <td>Historical Uttar Pradesh Nov-Feb Beaches, Hist...</td>\n",
              "    </tr>\n",
              "    <tr>\n",
              "      <th>992</th>\n",
              "      <td>997</td>\n",
              "      <td>823</td>\n",
              "      <td>858</td>\n",
              "      <td>5</td>\n",
              "      <td>Incredible monument!</td>\n",
              "      <td>Jaipur City</td>\n",
              "      <td>Rajasthan</td>\n",
              "      <td>City</td>\n",
              "      <td>8.501225</td>\n",
              "      <td>Oct-Mar</td>\n",
              "      <td>...</td>\n",
              "      <td>250</td>\n",
              "      <td>2024-03-20</td>\n",
              "      <td>3</td>\n",
              "      <td>Rohan</td>\n",
              "      <td>rohan@example.com</td>\n",
              "      <td>City, Historical</td>\n",
              "      <td>Male</td>\n",
              "      <td>1</td>\n",
              "      <td>2</td>\n",
              "      <td>City Rajasthan Oct-Mar City, Historical</td>\n",
              "    </tr>\n",
              "  </tbody>\n",
              "</table>\n",
              "<p>993 rows × 21 columns</p>\n",
              "</div>"
            ],
            "text/plain": [
              "     ReviewID  DestinationID_x  UserID  Rating            ReviewText  \\\n",
              "0           1              178     327       2  Incredible monument!   \n",
              "1           2              411     783       1    Loved the beaches!   \n",
              "2           4              358     959       3  Incredible monument!   \n",
              "3           5              989     353       2    Loved the beaches!   \n",
              "4           6              473     408       4   A historical wonder   \n",
              "..        ...              ...     ...     ...                   ...   \n",
              "988       991              701     850       3  Incredible monument!   \n",
              "989       991              701     850       3  Incredible monument!   \n",
              "990       995              231     346       5    Loved the beaches!   \n",
              "991       995              231     346       5    Loved the beaches!   \n",
              "992       997              823     858       5  Incredible monument!   \n",
              "\n",
              "                Name_x          State        Type  Popularity BestTimeToVisit  \\\n",
              "0          Jaipur City      Rajasthan        City    8.544352         Oct-Mar   \n",
              "1            Taj Mahal  Uttar Pradesh  Historical    8.284127         Nov-Feb   \n",
              "2          Jaipur City      Rajasthan        City    7.738761         Oct-Mar   \n",
              "3    Kerala Backwaters         Kerala      Nature    8.208088         Sep-Mar   \n",
              "4          Jaipur City      Rajasthan        City    8.138558         Oct-Mar   \n",
              "..                 ...            ...         ...         ...             ...   \n",
              "988          Taj Mahal  Uttar Pradesh  Historical    8.814029         Nov-Feb   \n",
              "989          Taj Mahal  Uttar Pradesh  Historical    8.814029         Nov-Feb   \n",
              "990          Taj Mahal  Uttar Pradesh  Historical    7.788256         Nov-Feb   \n",
              "991          Taj Mahal  Uttar Pradesh  Historical    7.788256         Nov-Feb   \n",
              "992        Jaipur City      Rajasthan        City    8.501225         Oct-Mar   \n",
              "\n",
              "     ...  DestinationID_y   VisitDate ExperienceRating  Name_y  \\\n",
              "0    ...              175  2024-01-01                3   Pooja   \n",
              "1    ...              894  2024-03-20                2   Karan   \n",
              "2    ...              660  2024-02-15                4  Ritvik   \n",
              "3    ...              894  2024-01-01                5    Isha   \n",
              "4    ...              403  2024-01-01                2  Ishaan   \n",
              "..   ...              ...         ...              ...     ...   \n",
              "988  ...              131  2024-03-20                1  Hitesh   \n",
              "989  ...              761  2024-01-01                4  Hitesh   \n",
              "990  ...              113  2024-01-01                2  Hitesh   \n",
              "991  ...              128  2024-01-01                4  Hitesh   \n",
              "992  ...              250  2024-03-20                3   Rohan   \n",
              "\n",
              "                  Email          Preferences  Gender NumberOfAdults  \\\n",
              "0     pooja@example.com     City, Historical  Female              1   \n",
              "1     karan@example.com     City, Historical    Male              1   \n",
              "2    ritvik@example.com    Nature, Adventure    Male              1   \n",
              "3      isha@example.com    Nature, Adventure  Female              2   \n",
              "4    ishaan@example.com     City, Historical    Male              2   \n",
              "..                  ...                  ...     ...            ...   \n",
              "988  hitesh@example.com  Beaches, Historical    Male              2   \n",
              "989  hitesh@example.com  Beaches, Historical    Male              2   \n",
              "990  hitesh@example.com  Beaches, Historical    Male              2   \n",
              "991  hitesh@example.com  Beaches, Historical    Male              2   \n",
              "992   rohan@example.com     City, Historical    Male              1   \n",
              "\n",
              "     NumberOfChildren                                           features  \n",
              "0                   1            City Rajasthan Oct-Mar City, Historical  \n",
              "1                   1  Historical Uttar Pradesh Nov-Feb City, Historical  \n",
              "2                   1           City Rajasthan Oct-Mar Nature, Adventure  \n",
              "3                   0            Nature Kerala Sep-Mar Nature, Adventure  \n",
              "4                   0            City Rajasthan Oct-Mar City, Historical  \n",
              "..                ...                                                ...  \n",
              "988                 0  Historical Uttar Pradesh Nov-Feb Beaches, Hist...  \n",
              "989                 0  Historical Uttar Pradesh Nov-Feb Beaches, Hist...  \n",
              "990                 2  Historical Uttar Pradesh Nov-Feb Beaches, Hist...  \n",
              "991                 2  Historical Uttar Pradesh Nov-Feb Beaches, Hist...  \n",
              "992                 2            City Rajasthan Oct-Mar City, Historical  \n",
              "\n",
              "[993 rows x 21 columns]"
            ]
          },
          "execution_count": 223,
          "metadata": {},
          "output_type": "execute_result"
        }
      ],
      "source": [
        "data = df.copy()\n",
        "data"
      ]
    },
    {
      "cell_type": "code",
      "execution_count": 224,
      "metadata": {
        "id": "oYeWJN4vda4Z"
      },
      "outputs": [],
      "source": [
        "features = ['Name_x','State','Type','BestTimeToVisit','Preferences',\n",
        "            'Gender','NumberOfChildren']"
      ]
    },
    {
      "cell_type": "code",
      "execution_count": 225,
      "metadata": {
        "colab": {
          "base_uri": "https://localhost:8080/",
          "height": 423
        },
        "id": "hGkXLE7Wd8py",
        "outputId": "3fdd2f94-2efa-4bb1-ac7f-3f033b53288a"
      },
      "outputs": [
        {
          "data": {
            "text/html": [
              "<div>\n",
              "<style scoped>\n",
              "    .dataframe tbody tr th:only-of-type {\n",
              "        vertical-align: middle;\n",
              "    }\n",
              "\n",
              "    .dataframe tbody tr th {\n",
              "        vertical-align: top;\n",
              "    }\n",
              "\n",
              "    .dataframe thead th {\n",
              "        text-align: right;\n",
              "    }\n",
              "</style>\n",
              "<table border=\"1\" class=\"dataframe\">\n",
              "  <thead>\n",
              "    <tr style=\"text-align: right;\">\n",
              "      <th></th>\n",
              "      <th>Name_x</th>\n",
              "      <th>State</th>\n",
              "      <th>Type</th>\n",
              "      <th>BestTimeToVisit</th>\n",
              "      <th>Preferences</th>\n",
              "      <th>Gender</th>\n",
              "      <th>NumberOfChildren</th>\n",
              "    </tr>\n",
              "  </thead>\n",
              "  <tbody>\n",
              "    <tr>\n",
              "      <th>0</th>\n",
              "      <td>Jaipur City</td>\n",
              "      <td>Rajasthan</td>\n",
              "      <td>City</td>\n",
              "      <td>Oct-Mar</td>\n",
              "      <td>City, Historical</td>\n",
              "      <td>Female</td>\n",
              "      <td>1</td>\n",
              "    </tr>\n",
              "    <tr>\n",
              "      <th>1</th>\n",
              "      <td>Taj Mahal</td>\n",
              "      <td>Uttar Pradesh</td>\n",
              "      <td>Historical</td>\n",
              "      <td>Nov-Feb</td>\n",
              "      <td>City, Historical</td>\n",
              "      <td>Male</td>\n",
              "      <td>1</td>\n",
              "    </tr>\n",
              "    <tr>\n",
              "      <th>2</th>\n",
              "      <td>Jaipur City</td>\n",
              "      <td>Rajasthan</td>\n",
              "      <td>City</td>\n",
              "      <td>Oct-Mar</td>\n",
              "      <td>Nature, Adventure</td>\n",
              "      <td>Male</td>\n",
              "      <td>1</td>\n",
              "    </tr>\n",
              "    <tr>\n",
              "      <th>3</th>\n",
              "      <td>Kerala Backwaters</td>\n",
              "      <td>Kerala</td>\n",
              "      <td>Nature</td>\n",
              "      <td>Sep-Mar</td>\n",
              "      <td>Nature, Adventure</td>\n",
              "      <td>Female</td>\n",
              "      <td>0</td>\n",
              "    </tr>\n",
              "    <tr>\n",
              "      <th>4</th>\n",
              "      <td>Jaipur City</td>\n",
              "      <td>Rajasthan</td>\n",
              "      <td>City</td>\n",
              "      <td>Oct-Mar</td>\n",
              "      <td>City, Historical</td>\n",
              "      <td>Male</td>\n",
              "      <td>0</td>\n",
              "    </tr>\n",
              "    <tr>\n",
              "      <th>...</th>\n",
              "      <td>...</td>\n",
              "      <td>...</td>\n",
              "      <td>...</td>\n",
              "      <td>...</td>\n",
              "      <td>...</td>\n",
              "      <td>...</td>\n",
              "      <td>...</td>\n",
              "    </tr>\n",
              "    <tr>\n",
              "      <th>988</th>\n",
              "      <td>Taj Mahal</td>\n",
              "      <td>Uttar Pradesh</td>\n",
              "      <td>Historical</td>\n",
              "      <td>Nov-Feb</td>\n",
              "      <td>Beaches, Historical</td>\n",
              "      <td>Male</td>\n",
              "      <td>0</td>\n",
              "    </tr>\n",
              "    <tr>\n",
              "      <th>989</th>\n",
              "      <td>Taj Mahal</td>\n",
              "      <td>Uttar Pradesh</td>\n",
              "      <td>Historical</td>\n",
              "      <td>Nov-Feb</td>\n",
              "      <td>Beaches, Historical</td>\n",
              "      <td>Male</td>\n",
              "      <td>0</td>\n",
              "    </tr>\n",
              "    <tr>\n",
              "      <th>990</th>\n",
              "      <td>Taj Mahal</td>\n",
              "      <td>Uttar Pradesh</td>\n",
              "      <td>Historical</td>\n",
              "      <td>Nov-Feb</td>\n",
              "      <td>Beaches, Historical</td>\n",
              "      <td>Male</td>\n",
              "      <td>2</td>\n",
              "    </tr>\n",
              "    <tr>\n",
              "      <th>991</th>\n",
              "      <td>Taj Mahal</td>\n",
              "      <td>Uttar Pradesh</td>\n",
              "      <td>Historical</td>\n",
              "      <td>Nov-Feb</td>\n",
              "      <td>Beaches, Historical</td>\n",
              "      <td>Male</td>\n",
              "      <td>2</td>\n",
              "    </tr>\n",
              "    <tr>\n",
              "      <th>992</th>\n",
              "      <td>Jaipur City</td>\n",
              "      <td>Rajasthan</td>\n",
              "      <td>City</td>\n",
              "      <td>Oct-Mar</td>\n",
              "      <td>City, Historical</td>\n",
              "      <td>Male</td>\n",
              "      <td>2</td>\n",
              "    </tr>\n",
              "  </tbody>\n",
              "</table>\n",
              "<p>993 rows × 7 columns</p>\n",
              "</div>"
            ],
            "text/plain": [
              "                Name_x          State        Type BestTimeToVisit  \\\n",
              "0          Jaipur City      Rajasthan        City         Oct-Mar   \n",
              "1            Taj Mahal  Uttar Pradesh  Historical         Nov-Feb   \n",
              "2          Jaipur City      Rajasthan        City         Oct-Mar   \n",
              "3    Kerala Backwaters         Kerala      Nature         Sep-Mar   \n",
              "4          Jaipur City      Rajasthan        City         Oct-Mar   \n",
              "..                 ...            ...         ...             ...   \n",
              "988          Taj Mahal  Uttar Pradesh  Historical         Nov-Feb   \n",
              "989          Taj Mahal  Uttar Pradesh  Historical         Nov-Feb   \n",
              "990          Taj Mahal  Uttar Pradesh  Historical         Nov-Feb   \n",
              "991          Taj Mahal  Uttar Pradesh  Historical         Nov-Feb   \n",
              "992        Jaipur City      Rajasthan        City         Oct-Mar   \n",
              "\n",
              "             Preferences  Gender  NumberOfChildren  \n",
              "0       City, Historical  Female                 1  \n",
              "1       City, Historical    Male                 1  \n",
              "2      Nature, Adventure    Male                 1  \n",
              "3      Nature, Adventure  Female                 0  \n",
              "4       City, Historical    Male                 0  \n",
              "..                   ...     ...               ...  \n",
              "988  Beaches, Historical    Male                 0  \n",
              "989  Beaches, Historical    Male                 0  \n",
              "990  Beaches, Historical    Male                 2  \n",
              "991  Beaches, Historical    Male                 2  \n",
              "992     City, Historical    Male                 2  \n",
              "\n",
              "[993 rows x 7 columns]"
            ]
          },
          "execution_count": 225,
          "metadata": {},
          "output_type": "execute_result"
        }
      ],
      "source": [
        "data[features]"
      ]
    },
    {
      "cell_type": "code",
      "execution_count": 226,
      "metadata": {
        "colab": {
          "base_uri": "https://localhost:8080/",
          "height": 423
        },
        "id": "J6ZV26jTeADO",
        "outputId": "24955e5e-5210-4bcb-8f75-7b99ca1df7f7"
      },
      "outputs": [
        {
          "data": {
            "text/html": [
              "<div>\n",
              "<style scoped>\n",
              "    .dataframe tbody tr th:only-of-type {\n",
              "        vertical-align: middle;\n",
              "    }\n",
              "\n",
              "    .dataframe tbody tr th {\n",
              "        vertical-align: top;\n",
              "    }\n",
              "\n",
              "    .dataframe thead th {\n",
              "        text-align: right;\n",
              "    }\n",
              "</style>\n",
              "<table border=\"1\" class=\"dataframe\">\n",
              "  <thead>\n",
              "    <tr style=\"text-align: right;\">\n",
              "      <th></th>\n",
              "      <th>Name_x</th>\n",
              "      <th>State</th>\n",
              "      <th>Type</th>\n",
              "      <th>BestTimeToVisit</th>\n",
              "      <th>Preferences</th>\n",
              "      <th>Gender</th>\n",
              "      <th>NumberOfChildren</th>\n",
              "    </tr>\n",
              "  </thead>\n",
              "  <tbody>\n",
              "    <tr>\n",
              "      <th>0</th>\n",
              "      <td>1</td>\n",
              "      <td>3</td>\n",
              "      <td>2</td>\n",
              "      <td>3</td>\n",
              "      <td>1</td>\n",
              "      <td>0</td>\n",
              "      <td>1</td>\n",
              "    </tr>\n",
              "    <tr>\n",
              "      <th>1</th>\n",
              "      <td>4</td>\n",
              "      <td>4</td>\n",
              "      <td>3</td>\n",
              "      <td>1</td>\n",
              "      <td>1</td>\n",
              "      <td>1</td>\n",
              "      <td>1</td>\n",
              "    </tr>\n",
              "    <tr>\n",
              "      <th>2</th>\n",
              "      <td>1</td>\n",
              "      <td>3</td>\n",
              "      <td>2</td>\n",
              "      <td>3</td>\n",
              "      <td>2</td>\n",
              "      <td>1</td>\n",
              "      <td>1</td>\n",
              "    </tr>\n",
              "    <tr>\n",
              "      <th>3</th>\n",
              "      <td>2</td>\n",
              "      <td>2</td>\n",
              "      <td>4</td>\n",
              "      <td>4</td>\n",
              "      <td>2</td>\n",
              "      <td>0</td>\n",
              "      <td>0</td>\n",
              "    </tr>\n",
              "    <tr>\n",
              "      <th>4</th>\n",
              "      <td>1</td>\n",
              "      <td>3</td>\n",
              "      <td>2</td>\n",
              "      <td>3</td>\n",
              "      <td>1</td>\n",
              "      <td>1</td>\n",
              "      <td>0</td>\n",
              "    </tr>\n",
              "    <tr>\n",
              "      <th>...</th>\n",
              "      <td>...</td>\n",
              "      <td>...</td>\n",
              "      <td>...</td>\n",
              "      <td>...</td>\n",
              "      <td>...</td>\n",
              "      <td>...</td>\n",
              "      <td>...</td>\n",
              "    </tr>\n",
              "    <tr>\n",
              "      <th>988</th>\n",
              "      <td>4</td>\n",
              "      <td>4</td>\n",
              "      <td>3</td>\n",
              "      <td>1</td>\n",
              "      <td>0</td>\n",
              "      <td>1</td>\n",
              "      <td>0</td>\n",
              "    </tr>\n",
              "    <tr>\n",
              "      <th>989</th>\n",
              "      <td>4</td>\n",
              "      <td>4</td>\n",
              "      <td>3</td>\n",
              "      <td>1</td>\n",
              "      <td>0</td>\n",
              "      <td>1</td>\n",
              "      <td>0</td>\n",
              "    </tr>\n",
              "    <tr>\n",
              "      <th>990</th>\n",
              "      <td>4</td>\n",
              "      <td>4</td>\n",
              "      <td>3</td>\n",
              "      <td>1</td>\n",
              "      <td>0</td>\n",
              "      <td>1</td>\n",
              "      <td>2</td>\n",
              "    </tr>\n",
              "    <tr>\n",
              "      <th>991</th>\n",
              "      <td>4</td>\n",
              "      <td>4</td>\n",
              "      <td>3</td>\n",
              "      <td>1</td>\n",
              "      <td>0</td>\n",
              "      <td>1</td>\n",
              "      <td>2</td>\n",
              "    </tr>\n",
              "    <tr>\n",
              "      <th>992</th>\n",
              "      <td>1</td>\n",
              "      <td>3</td>\n",
              "      <td>2</td>\n",
              "      <td>3</td>\n",
              "      <td>1</td>\n",
              "      <td>1</td>\n",
              "      <td>2</td>\n",
              "    </tr>\n",
              "  </tbody>\n",
              "</table>\n",
              "<p>993 rows × 7 columns</p>\n",
              "</div>"
            ],
            "text/plain": [
              "     Name_x  State  Type  BestTimeToVisit  Preferences  Gender  \\\n",
              "0         1      3     2                3            1       0   \n",
              "1         4      4     3                1            1       1   \n",
              "2         1      3     2                3            2       1   \n",
              "3         2      2     4                4            2       0   \n",
              "4         1      3     2                3            1       1   \n",
              "..      ...    ...   ...              ...          ...     ...   \n",
              "988       4      4     3                1            0       1   \n",
              "989       4      4     3                1            0       1   \n",
              "990       4      4     3                1            0       1   \n",
              "991       4      4     3                1            0       1   \n",
              "992       1      3     2                3            1       1   \n",
              "\n",
              "     NumberOfChildren  \n",
              "0                   1  \n",
              "1                   1  \n",
              "2                   1  \n",
              "3                   0  \n",
              "4                   0  \n",
              "..                ...  \n",
              "988                 0  \n",
              "989                 0  \n",
              "990                 2  \n",
              "991                 2  \n",
              "992                 2  \n",
              "\n",
              "[993 rows x 7 columns]"
            ]
          },
          "execution_count": 226,
          "metadata": {},
          "output_type": "execute_result"
        }
      ],
      "source": [
        "#Encoding\n",
        "label_encoders = {}\n",
        "\n",
        "for col in features:\n",
        "  if data[col].dtype == 'object':\n",
        "    le = LabelEncoder()\n",
        "    data[col] = le.fit_transform(data[col])\n",
        "    label_encoders[col] = le\n",
        "\n",
        "data[features]"
      ]
    },
    {
      "cell_type": "code",
      "execution_count": 227,
      "metadata": {
        "id": "V_xHVdRber44"
      },
      "outputs": [],
      "source": [
        "X = data[features]\n",
        "y = data['Popularity']"
      ]
    },
    {
      "cell_type": "code",
      "execution_count": 228,
      "metadata": {
        "id": "mE68wp2Ee0S4"
      },
      "outputs": [],
      "source": [
        "X_train, X_test, y_train, y_test = train_test_split(X,y,test_size=0.2,random_state=42)\n"
      ]
    },
    {
      "cell_type": "markdown",
      "metadata": {
        "id": "MumzQ_8QfBVs"
      },
      "source": [
        "#### Model Training"
      ]
    },
    {
      "cell_type": "code",
      "execution_count": 229,
      "metadata": {
        "colab": {
          "base_uri": "https://localhost:8080/"
        },
        "id": "T8tWDYwafAt-",
        "outputId": "510ea227-f077-4bc1-a96a-225df69c8668"
      },
      "outputs": [
        {
          "name": "stdout",
          "output_type": "stream",
          "text": [
            "MSE:  0.35623104830808155\n",
            "MAE:  0.5141496675289093\n",
            "R2:  -0.09253725565503812\n"
          ]
        }
      ],
      "source": [
        "model = RandomForestRegressor(random_state=42)\n",
        "model.fit(X_train,y_train)\n",
        "# Evaluate Model\n",
        "y_pred = model.predict(X_test)\n",
        "\n",
        "print(\"MSE: \",mean_squared_error(y_test,y_pred))\n",
        "print(\"MAE: \",mean_absolute_error(y_test,y_pred))\n",
        "print(\"R2: \",r2_score(y_test,y_pred))"
      ]
    },
    {
      "cell_type": "markdown",
      "metadata": {
        "id": "eTWpWrHvfZso"
      },
      "source": [
        "#### Example User Input"
      ]
    },
    {
      "cell_type": "code",
      "execution_count": 230,
      "metadata": {
        "colab": {
          "base_uri": "https://localhost:8080/"
        },
        "id": "bSBjlQ_ne_cT",
        "outputId": "c32437b0-1aae-4968-f2de-314a37cf9e40"
      },
      "outputs": [
        {
          "name": "stdout",
          "output_type": "stream",
          "text": [
            "Predicted Popularity Score: 8.13\n"
          ]
        }
      ],
      "source": [
        "def recommend_destinations_user_input(user_input, model, label_encoders, features):\n",
        "  #Encode user input\n",
        "  encoded_input = {}\n",
        "  for feature in features:\n",
        "    if feature in label_encoders:\n",
        "      encoded_input[feature] = label_encoders[feature].transform([user_input[feature]])[0]\n",
        "    else:\n",
        "      encoded_input[feature] = user_input[feature]\n",
        "\n",
        "  input = pd.DataFrame([encoded_input])\n",
        "\n",
        "  predicted_popularity = model.predict(input)[0]\n",
        "\n",
        "  return predicted_popularity\n",
        "\n",
        "user_input = {\n",
        "    'Name_x': 'Jaipur City',\n",
        "    'Type': 'City',\n",
        "    'State': 'Rajasthan',\n",
        "    'BestTimeToVisit': 'Oct-Mar',  # This might be an unseen label\n",
        "    'Preferences': 'City, Historical',\n",
        "    'Gender': 'Female',\n",
        "    'NumberOfAdults': 2,\n",
        "    'NumberOfChildren': 1,\n",
        "}\n",
        "\n",
        "predicted_popularity = recommend_destinations_user_input(user_input, model, label_encoders, features)\n",
        "\n",
        "print(f\"Predicted Popularity Score: {predicted_popularity:.2f}\")"
      ]
    },
    {
      "cell_type": "code",
      "execution_count": 231,
      "metadata": {
        "id": "rf0Cs9tZfuo9"
      },
      "outputs": [],
      "source": [
        "pickle.dump(model,open(\"../models/model.pkl\",'wb'))\n",
        "pickle.dump(label_encoders,open(\"../models/label_encoders.pkl\",'wb'))"
      ]
    }
  ],
  "metadata": {
    "colab": {
      "provenance": []
    },
    "kernelspec": {
      "display_name": "venv",
      "language": "python",
      "name": "python3"
    },
    "language_info": {
      "codemirror_mode": {
        "name": "ipython",
        "version": 3
      },
      "file_extension": ".py",
      "mimetype": "text/x-python",
      "name": "python",
      "nbconvert_exporter": "python",
      "pygments_lexer": "ipython3",
      "version": "3.13.1"
    }
  },
  "nbformat": 4,
  "nbformat_minor": 0
}
